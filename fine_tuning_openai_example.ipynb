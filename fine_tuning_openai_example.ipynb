{
 "cells": [
  {
   "cell_type": "code",
   "execution_count": 4,
   "metadata": {},
   "outputs": [],
   "source": [
    "%%capture\n",
    "!pip install python-dotenv\n",
    "!pip install openai\n",
    "!pip install requests\n",
    "!pip install streamlit"
   ]
  },
  {
   "cell_type": "markdown",
   "metadata": {},
   "source": [
    "## Setting the enviroment"
   ]
  },
  {
   "cell_type": "code",
   "execution_count": 5,
   "metadata": {},
   "outputs": [],
   "source": [
    "from dotenv import load_dotenv\n",
    "import os\n",
    "from openai import OpenAI\n",
    "\n",
    "\n",
    "load_dotenv()\n",
    "os.getenv('OPENAI_API_KEY')\n",
    "client = OpenAI()"
   ]
  },
  {
   "cell_type": "markdown",
   "metadata": {},
   "source": [
    "## FInetuning the Model"
   ]
  },
  {
   "cell_type": "code",
   "execution_count": 3,
   "metadata": {},
   "outputs": [
    {
     "name": "stdout",
     "output_type": "stream",
     "text": [
      "Job ID: ftjob-zu3bdEm6DYYxcHXALoNvoTBo\n",
      "Status: validating_files\n"
     ]
    }
   ],
   "source": [
    "\n",
    "train_file = client.files.create(\n",
    "  file=open(\"video_to_json_train.jsonl\", \"rb\"),\n",
    "  purpose=\"fine-tune\"\n",
    ")\n",
    "validation_file = client.files.create(\n",
    "  file=open(\"video_to_json_validation.jsonl\", \"rb\"),\n",
    "  purpose=\"fine-tune\"\n",
    ")\n",
    "\n",
    "response=client.fine_tuning.jobs.create(\n",
    "  training_file=train_file.id,\n",
    "  validation_file=validation_file.id,\n",
    "  model=\"gpt-3.5-turbo\",\n",
    "  hyperparameters={\n",
    "    'n_epochs': 4, 'batch_size': 1, 'learning_rate_multiplier': 2\n",
    "  }\n",
    ")\n",
    "job_id = response.id\n",
    "\n",
    "print(\"Job ID:\", response.id)\n",
    "print(\"Status:\", response.status)"
   ]
  },
  {
   "cell_type": "code",
   "execution_count": 6,
   "metadata": {},
   "outputs": [
    {
     "name": "stdout",
     "output_type": "stream",
     "text": [
      "Created fine-tuning job: ftjob-zu3bdEm6DYYxcHXALoNvoTBo\n",
      "Validating training file: file-yMNENRImt0Tz4sBm40ytxywp and validation file: file-z3wO8ITyBhEusHMw4ugKy3es\n"
     ]
    }
   ],
   "source": [
    "job_id=\"ftjob-zu3bdEm6DYYxcHXALoNvoTBo\"\n",
    "response = client.fine_tuning.jobs.list_events(job_id)\n",
    "\n",
    "events = response.data\n",
    "events.reverse()\n",
    "\n",
    "for event in events:\n",
    "    print(event.message)"
   ]
  },
  {
   "cell_type": "markdown",
   "metadata": {},
   "source": [
    "## FineTuned Model"
   ]
  },
  {
   "cell_type": "code",
   "execution_count": 7,
   "metadata": {},
   "outputs": [
    {
     "name": "stdout",
     "output_type": "stream",
     "text": [
      "{'output_format': 'mp4', 'duration': '14 s', 'width': 854, 'height': 480, 'elements': [{'type': 'text', 'track': 1, 'time': '0 s', 'duration': '2 s', 'fill_color': '#ff00ff', 'text': 'Please Wait', 'font_family': 'Arial'}, {'type': 'text', 'track': 1, 'time': '2 s', 'duration': '4 s', 'fill_color': '#0000ff', 'text': 'Welcome to My Site', 'font_family': 'Arial'}, {'type': 'text', 'track': 1, 'time': '6 s', 'duration': '8 s', 'fill_color': '#ffffff', 'text': 'these are the points to be disscussed', 'font_family': 'Arial'}]}\n"
     ]
    }
   ],
   "source": [
    "import json\n",
    "# response = client.fine_tuning.jobs.retrieve(job_id)\n",
    "# fine_tuned_model_id = response.fine_tuned_model\n",
    "completion = client.chat.completions.create( \n",
    "model=\"ft:gpt-3.5-turbo-0125:fast-nuces::9hBgC0oI\",\n",
    "  messages=[\n",
    "  {\n",
    "    \"role\": \"system\",\n",
    "    \"content\": \"Given a video description, provide the following fields in a JSON dict: \\\"output_format\\\" (string), \\\"duration\\\" (string), \\\"width\\\" (integer), \\\"height\\\" (integer), and \\\"elements\\\" (array of dicts with fields: \\\"type\\\", \\\"track\\\", \\\"time\\\", \\\"duration\\\", \\\"fill_color\\\", \\\"text\\\", \\\"font_family\\\").\"\n",
    "  },\n",
    "  {\n",
    "    \"role\": \"user\",\n",
    "    \"content\": \"Make JSON for a video that is 854x480 and 14 seconds long, with the text 'Please Wait' in magenta on a white background appear for 2 second, text\\\" Welcome to My Site\\\" in blue color for 4 second, text \\\"these are are the points to be disscussed\\\" in white for remainig second\"\n",
    "\n",
    "  }\n",
    "  ]\n",
    ")\n",
    "try:\n",
    "  json_data = json.loads(completion.choices[0].message.content)\n",
    "  print(json_data)\n",
    "except:\n",
    "   print(completion.choices[0].message.content)"
   ]
  },
  {
   "cell_type": "markdown",
   "metadata": {},
   "source": [
    "## Base Model"
   ]
  },
  {
   "cell_type": "code",
   "execution_count": 8,
   "metadata": {},
   "outputs": [
    {
     "name": "stdout",
     "output_type": "stream",
     "text": [
      "{\n",
      "    \"output_format\": \"mp4\",\n",
      "    \"duration\": \"00:00:22\",\n",
      "    \"width\": 1280,\n",
      "    \"height\": 720,\n",
      "    \"elements\": [\n",
      "        {\n",
      "            \"type\": \"text\",\n",
      "            \"track\": \"video\",\n",
      "            \"time\": \"00:00:00\",\n",
      "            \"duration\": \"00:00:22\",\n",
      "            \"fill_color\": \"cyan\",\n",
      "            \"text\": \"Event Starts Soon\",\n",
      "            \"font_family\": \"Arial\"\n",
      "        },\n",
      "        {\n",
      "            \"type\": \"background\",\n",
      "            \"track\": \"video\",\n",
      "            \"time\": \"00:00:00\",\n",
      "            \"duration\": \"00:00:22\",\n",
      "            \"fill_color\": \"darkblue\"\n",
      "        }\n",
      "    ]\n",
      "}\n"
     ]
    }
   ],
   "source": [
    "completion = client.chat.completions.create(\n",
    " model=\"gpt-3.5-turbo\",\n",
    "  messages=[\n",
    "  {\n",
    "    \"role\": \"system\",\n",
    "    \"content\": \"Given a video description, provide the following fields in a JSON dict: \\\"output_format\\\" (string), \\\"duration\\\" (string), \\\"width\\\" (integer), \\\"height\\\" (integer), and \\\"elements\\\" (array of dicts with fields: \\\"type\\\", \\\"track\\\", \\\"time\\\", \\\"duration\\\", \\\"fill_color\\\", \\\"text\\\", \\\"font_family\\\").\"\n",
    "  },\n",
    "  {\n",
    "    \"role\": \"user\",\n",
    "    \"content\": \"Make JSON for a video that is 1280x720 and 22 seconds long, with the text 'Event Starts Soon' in cyan on a dark blue background.\"\n",
    "  }\n",
    "  ]\n",
    ")\n",
    "\n",
    "print(completion.choices[0].message.content)\n",
    "import json\n",
    "json_data = json.loads(completion.choices[0].message.content)"
   ]
  },
  {
   "cell_type": "markdown",
   "metadata": {},
   "source": [
    "## cost of finetuning?\n",
    "For detailed pricing on training costs, as well as input and output costs for a deployed fine-tuned model, visit our pricing page. Note that we don't charge for tokens used for training validation. To estimate the cost of a specific fine-tuning training job, use the following formula:\n",
    "\n",
    "    (base training cost per 1M input tokens ÷ 1M) × number of tokens in the input file × number of epochs trained\n",
    "\n",
    "For a training file with 100,000 tokens trained over 3 epochs, the expected cost would be ~$2.40 USD with gpt-3.5-turbo-0125.\n",
    "## where it is deployed?\n",
    "it is managed by open ai servers . Sometimes it may cost more to get inference from finetuned model than the base model\n",
    "## model expiry date\n",
    "You can use it as long as you have membership\n",
    "## add generate from base model as well in streamlit app\n",
    "\n"
   ]
  },
  {
   "cell_type": "code",
   "execution_count": 9,
   "metadata": {},
   "outputs": [
    {
     "name": "stdout",
     "output_type": "stream",
     "text": [
      "{'location': {'name': 'London', 'region': 'City of London, Greater London', 'country': 'United Kingdom', 'lat': 51.52, 'lon': -0.11, 'tz_id': 'Europe/London', 'localtime_epoch': 1720180349, 'localtime': '2024-07-05 12:52'}, 'current': {'last_updated_epoch': 1720179900, 'last_updated': '2024-07-05 12:45', 'temp_c': 19.3, 'temp_f': 66.7, 'is_day': 1, 'condition': {'text': 'Partly cloudy', 'icon': '//cdn.weatherapi.com/weather/64x64/day/116.png', 'code': 1003}, 'wind_mph': 6.9, 'wind_kph': 11.2, 'wind_degree': 290, 'wind_dir': 'WNW', 'pressure_mb': 1006.0, 'pressure_in': 29.71, 'precip_mm': 0.34, 'precip_in': 0.01, 'humidity': 83, 'cloud': 25, 'feelslike_c': 19.3, 'feelslike_f': 66.7, 'windchill_c': 15.7, 'windchill_f': 60.2, 'heatindex_c': 15.7, 'heatindex_f': 60.2, 'dewpoint_c': 14.8, 'dewpoint_f': 58.6, 'vis_km': 10.0, 'vis_miles': 6.0, 'uv': 4.0, 'gust_mph': 7.8, 'gust_kph': 12.6}}\n"
     ]
    }
   ],
   "source": [
    "import requests\n",
    "\n",
    "# Your API key\n",
    "api_key = 'f5896694eed3459c874114716240507'\n",
    "\n",
    "# The endpoint for current weather data\n",
    "endpoint = 'http://api.weatherapi.com/v1/current.json'\n",
    "\n",
    "# Parameters for the request\n",
    "params = {\n",
    "    'key': api_key,\n",
    "    'q': 'London',  # Location query (e.g., city name, latitude/longitude, zip code, etc.)\n",
    "    'aqi': 'no'     # Air Quality Index (optional, can be 'yes' or 'no')\n",
    "}\n",
    "\n",
    "# Sending the request\n",
    "response = requests.get(endpoint, params=params)\n",
    "\n",
    "# Checking if the request was successful\n",
    "if response.status_code == 200:\n",
    "    # Parse the JSON response\n",
    "    data = response.json()\n",
    "    # Print the current weather data\n",
    "    location_data = data['location']\n",
    "    current_data = data['current']\n",
    "    weather_info = (\n",
    "            f\"Location: {location_data['name']}, {location_data['region']}, {location_data['country']}\\n\"\n",
    "            f\"Local Time: {location_data['localtime']}\\n\"\n",
    "            f\"Temperature: {current_data['temp_c']}°C ({current_data['temp_f']}°F)\\n\"\n",
    "            f\"Condition: {current_data['condition']['text']}\\n\"\n",
    "            f\"Wind: {current_data['wind_mph']} mph ({current_data['wind_kph']} kph), \"\n",
    "            f\"Direction: {current_data['wind_dir']} ({current_data['wind_degree']}°)\\n\"\n",
    "            f\"Pressure: {current_data['pressure_mb']} mb ({current_data['pressure_in']} in)\\n\"\n",
    "            f\"Precipitation: {current_data['precip_mm']} mm ({current_data['precip_in']} in)\\n\"\n",
    "            f\"Humidity: {current_data['humidity']}%\\n\"\n",
    "            f\"Cloud Cover: {current_data['cloud']}%\\n\"\n",
    "            f\"Feels Like: {current_data['feelslike_c']}°C ({current_data['feelslike_f']}°F)\\n\"\n",
    "            f\"Dew Point: {current_data['dewpoint_c']}°C ({current_data['dewpoint_f']}°F)\\n\"\n",
    "            f\"Visibility: {current_data['vis_km']} km ({current_data['vis_miles']} miles)\\n\"\n",
    "            f\"UV Index: {current_data['uv']}\\n\"\n",
    "            f\"Gust: {current_data['gust_mph']} mph ({current_data['gust_kph']} kph)\"\n",
    "        )\n",
    "    \n",
    "    print(data)\n",
    "else:\n",
    "    # Print the error message\n",
    "    print(f\"Error: {response.status_code}\")\n",
    "    print(response.json())\n"
   ]
  }
 ],
 "metadata": {
  "kernelspec": {
   "display_name": ".venv",
   "language": "python",
   "name": "python3"
  },
  "language_info": {
   "codemirror_mode": {
    "name": "ipython",
    "version": 3
   },
   "file_extension": ".py",
   "mimetype": "text/x-python",
   "name": "python",
   "nbconvert_exporter": "python",
   "pygments_lexer": "ipython3",
   "version": "3.8.10"
  }
 },
 "nbformat": 4,
 "nbformat_minor": 2
}
